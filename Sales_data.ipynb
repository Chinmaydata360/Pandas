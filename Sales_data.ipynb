{
 "cells": [
  {
   "cell_type": "code",
   "execution_count": 1,
   "id": "c72fe4a8-70f4-484f-aa9b-261410a72ea2",
   "metadata": {},
   "outputs": [],
   "source": [
    "import pandas as pd"
   ]
  },
  {
   "cell_type": "code",
   "execution_count": 11,
   "id": "36673e14-2fd4-4c6e-bd00-a9c65dbba0d1",
   "metadata": {},
   "outputs": [
    {
     "data": {
      "text/plain": [
       "' To get data '"
      ]
     },
     "execution_count": 11,
     "metadata": {},
     "output_type": "execute_result"
    }
   ],
   "source": [
    "\"\"\" To get data \"\"\""
   ]
  },
  {
   "cell_type": "code",
   "execution_count": 13,
   "id": "6ea6fa65-0f21-4656-8b71-5f3602617a2a",
   "metadata": {},
   "outputs": [],
   "source": [
    "df=pd.read_excel(\"C:\\\\Users\\\\win\\\\OneDrive\\\\Desktop\\\\pandas_project_final\\\\Sales_data.xlsx\")"
   ]
  },
  {
   "cell_type": "code",
   "execution_count": 15,
   "id": "a686d793-9bb4-4779-b588-82acd4edfea4",
   "metadata": {},
   "outputs": [
    {
     "data": {
      "text/plain": [
       "'To see first 5 rows'"
      ]
     },
     "execution_count": 15,
     "metadata": {},
     "output_type": "execute_result"
    }
   ],
   "source": [
    "\"\"\"To see first 5 rows\"\"\""
   ]
  },
  {
   "cell_type": "code",
   "execution_count": 19,
   "id": "a03de620-f9ac-4ff4-b686-ec952114737e",
   "metadata": {},
   "outputs": [
    {
     "data": {
      "text/html": [
       "<div>\n",
       "<style scoped>\n",
       "    .dataframe tbody tr th:only-of-type {\n",
       "        vertical-align: middle;\n",
       "    }\n",
       "\n",
       "    .dataframe tbody tr th {\n",
       "        vertical-align: top;\n",
       "    }\n",
       "\n",
       "    .dataframe thead th {\n",
       "        text-align: right;\n",
       "    }\n",
       "</style>\n",
       "<table border=\"1\" class=\"dataframe\">\n",
       "  <thead>\n",
       "    <tr style=\"text-align: right;\">\n",
       "      <th></th>\n",
       "      <th>Product_Category</th>\n",
       "      <th>Sales_Amount</th>\n",
       "      <th>Units_Sold</th>\n",
       "      <th>Discount (%)</th>\n",
       "    </tr>\n",
       "  </thead>\n",
       "  <tbody>\n",
       "    <tr>\n",
       "      <th>0</th>\n",
       "      <td>Electronics</td>\n",
       "      <td>43973.71</td>\n",
       "      <td>92</td>\n",
       "      <td>17.90</td>\n",
       "    </tr>\n",
       "    <tr>\n",
       "      <th>1</th>\n",
       "      <td>Electronics</td>\n",
       "      <td>46139.48</td>\n",
       "      <td>107</td>\n",
       "      <td>0.43</td>\n",
       "    </tr>\n",
       "    <tr>\n",
       "      <th>2</th>\n",
       "      <td>Electronics</td>\n",
       "      <td>26200.66</td>\n",
       "      <td>57</td>\n",
       "      <td>17.33</td>\n",
       "    </tr>\n",
       "    <tr>\n",
       "      <th>3</th>\n",
       "      <td>Electronics</td>\n",
       "      <td>38193.79</td>\n",
       "      <td>65</td>\n",
       "      <td>11.88</td>\n",
       "    </tr>\n",
       "    <tr>\n",
       "      <th>4</th>\n",
       "      <td>Electronics</td>\n",
       "      <td>35194.89</td>\n",
       "      <td>68</td>\n",
       "      <td>14.11</td>\n",
       "    </tr>\n",
       "  </tbody>\n",
       "</table>\n",
       "</div>"
      ],
      "text/plain": [
       "  Product_Category  Sales_Amount  Units_Sold  Discount (%)\n",
       "0      Electronics      43973.71          92         17.90\n",
       "1      Electronics      46139.48         107          0.43\n",
       "2      Electronics      26200.66          57         17.33\n",
       "3      Electronics      38193.79          65         11.88\n",
       "4      Electronics      35194.89          68         14.11"
      ]
     },
     "execution_count": 19,
     "metadata": {},
     "output_type": "execute_result"
    }
   ],
   "source": [
    "df.head()"
   ]
  },
  {
   "cell_type": "code",
   "execution_count": 21,
   "id": "8f311c29-b3e6-4034-85ad-ed6a8c7326ee",
   "metadata": {},
   "outputs": [
    {
     "name": "stdout",
     "output_type": "stream",
     "text": [
      "<class 'pandas.core.frame.DataFrame'>\n",
      "RangeIndex: 1000 entries, 0 to 999\n",
      "Data columns (total 4 columns):\n",
      " #   Column            Non-Null Count  Dtype  \n",
      "---  ------            --------------  -----  \n",
      " 0   Product_Category  1000 non-null   object \n",
      " 1   Sales_Amount      1000 non-null   float64\n",
      " 2   Units_Sold        1000 non-null   int64  \n",
      " 3   Discount (%)      1000 non-null   float64\n",
      "dtypes: float64(2), int64(1), object(1)\n",
      "memory usage: 31.4+ KB\n"
     ]
    }
   ],
   "source": [
    "df.info()"
   ]
  },
  {
   "cell_type": "code",
   "execution_count": 23,
   "id": "f20cb527-b5e7-4010-a42f-849a8f6ac6d5",
   "metadata": {},
   "outputs": [
    {
     "data": {
      "text/plain": [
       "Product_Category\n",
       "Electronics    200\n",
       "Furniture      200\n",
       "Clothing       200\n",
       "Grocery        200\n",
       "Books          200\n",
       "Name: count, dtype: int64"
      ]
     },
     "execution_count": 23,
     "metadata": {},
     "output_type": "execute_result"
    }
   ],
   "source": [
    "df[\"Product_Category\"].value_counts()"
   ]
  },
  {
   "cell_type": "code",
   "execution_count": 25,
   "id": "2ba89918-76df-4094-a75f-bd1c2a1d67ca",
   "metadata": {},
   "outputs": [
    {
     "data": {
      "text/plain": [
       "' Outlier Analysis\\nCategory-wise IQR Outlier Detection:\\n\\nFor each Product_Category, identify and count how many Sales_Amount entries are outliers using the IQR method.\\n\\nWhich category has the highest proportion of outliers?'"
      ]
     },
     "execution_count": 25,
     "metadata": {},
     "output_type": "execute_result"
    }
   ],
   "source": [
    "\"\"\" Outlier Analysis\n",
    "Category-wise IQR Outlier Detection:\n",
    "\n",
    "For each Product_Category, identify and count how many Sales_Amount entries are outliers using the IQR method.\n",
    "\n",
    "Which category has the highest proportion of outliers?\"\"\""
   ]
  },
  {
   "cell_type": "code",
   "execution_count": 91,
   "id": "0a7caf44-fc83-4bab-9acc-b2dea6c8e2ff",
   "metadata": {},
   "outputs": [
    {
     "name": "stdout",
     "output_type": "stream",
     "text": [
      "  Product_Category  Outlier_Count  Total_Count  Outlier_Percentage\n",
      "0      Electronics           14.0        200.0                 7.0\n",
      "4            Books           13.0        200.0                 6.5\n",
      "1        Furniture           11.0        200.0                 5.5\n",
      "2         Clothing            9.0        200.0                 4.5\n",
      "3          Grocery            8.0        200.0                 4.0\n"
     ]
    }
   ],
   "source": [
    "\n",
    "\n",
    "\n",
    "outlier_counts = {}\n",
    "\n",
    "\n",
    "for category in df['Product_Category'].unique():\n",
    "    cat_data = df[df['Product_Category'] == category]['Sales_Amount']\n",
    "    \n",
    "    # Calculate IQR\n",
    "    Q1 = cat_data.quantile(0.25)\n",
    "    Q3 = cat_data.quantile(0.75)\n",
    "    IQR = Q3 - Q1\n",
    "    \n",
    "    # Calculate bounds\n",
    "    lower_bound = Q1 - 1.5 * IQR\n",
    "    upper_bound = Q3 + 1.5 * IQR\n",
    "    \n",
    "    # Identify outliers\n",
    "    outliers = cat_data[(cat_data < lower_bound) | (cat_data > upper_bound)]\n",
    "    \n",
    "    # Store stats in dictionary\n",
    "    outlier_counts[category] = {\n",
    "        'Outlier_Count': outliers.count(),\n",
    "        'Total_Count': len(cat_data),\n",
    "        'Outlier_Percentage': round(outliers.count() / len(cat_data) * 100, 2)\n",
    "    }\n",
    "\n",
    "# Convert to DataFrame for display\n",
    "outlier_df = pd.DataFrame(outlier_counts).T.reset_index()\n",
    "outlier_df.columns = ['Product_Category', 'Outlier_Count', 'Total_Count', 'Outlier_Percentage']\n",
    "\n",
    "# Sort by percentage of outliers\n",
    "outlier_df = outlier_df.sort_values(by='Outlier_Percentage', ascending=False)\n",
    "\n",
    "\n",
    "print(outlier_df)\n"
   ]
  },
  {
   "cell_type": "code",
   "execution_count": 95,
   "id": "b7f49c77-d349-44bb-81ad-b3abe9cda1d2",
   "metadata": {},
   "outputs": [],
   "source": [
    "#outlier treatment # removing this "
   ]
  },
  {
   "cell_type": "code",
   "execution_count": 103,
   "id": "d6eeba4c-ab6d-40d8-94f1-3bdd707c69c9",
   "metadata": {},
   "outputs": [],
   "source": [
    "df_no_outliers = df.copy()\n",
    "for category in df['Product_Category'].unique():\n",
    "    \n",
    "    cat_index = df['Product_Category'] == category\n",
    "    cat_data = df.loc[cat_index, 'Sales_Amount']\n",
    "    \n",
    "    # IQR bounds\n",
    "    Q1 = cat_data.quantile(0.25)\n",
    "    Q3 = cat_data.quantile(0.75)\n",
    "    IQR = Q3 - Q1\n",
    "    lower_bound = Q1 - 1.5 * IQR\n",
    "    upper_bound = Q3 + 1.5 * IQR\n",
    "    \n",
    "    # Remove outliers\n",
    "    df_no_outliers = df_no_outliers[~((df_no_outliers['Product_Category'] == category) &\n",
    "                                      ((df_no_outliers['Sales_Amount'] < lower_bound) |\n",
    "                                       (df_no_outliers['Sales_Amount'] > upper_bound)))]\n"
   ]
  },
  {
   "cell_type": "code",
   "execution_count": 105,
   "id": "932a725c-bc8e-4081-a4e1-ac8fb1e6a3e5",
   "metadata": {},
   "outputs": [
    {
     "data": {
      "text/html": [
       "<div>\n",
       "<style scoped>\n",
       "    .dataframe tbody tr th:only-of-type {\n",
       "        vertical-align: middle;\n",
       "    }\n",
       "\n",
       "    .dataframe tbody tr th {\n",
       "        vertical-align: top;\n",
       "    }\n",
       "\n",
       "    .dataframe thead th {\n",
       "        text-align: right;\n",
       "    }\n",
       "</style>\n",
       "<table border=\"1\" class=\"dataframe\">\n",
       "  <thead>\n",
       "    <tr style=\"text-align: right;\">\n",
       "      <th></th>\n",
       "      <th>Product_Category</th>\n",
       "      <th>Sales_Amount</th>\n",
       "      <th>Units_Sold</th>\n",
       "      <th>Discount (%)</th>\n",
       "    </tr>\n",
       "  </thead>\n",
       "  <tbody>\n",
       "    <tr>\n",
       "      <th>0</th>\n",
       "      <td>Electronics</td>\n",
       "      <td>43973.71</td>\n",
       "      <td>92</td>\n",
       "      <td>17.90</td>\n",
       "    </tr>\n",
       "    <tr>\n",
       "      <th>1</th>\n",
       "      <td>Electronics</td>\n",
       "      <td>46139.48</td>\n",
       "      <td>107</td>\n",
       "      <td>0.43</td>\n",
       "    </tr>\n",
       "    <tr>\n",
       "      <th>2</th>\n",
       "      <td>Electronics</td>\n",
       "      <td>26200.66</td>\n",
       "      <td>57</td>\n",
       "      <td>17.33</td>\n",
       "    </tr>\n",
       "    <tr>\n",
       "      <th>3</th>\n",
       "      <td>Electronics</td>\n",
       "      <td>38193.79</td>\n",
       "      <td>65</td>\n",
       "      <td>11.88</td>\n",
       "    </tr>\n",
       "    <tr>\n",
       "      <th>4</th>\n",
       "      <td>Electronics</td>\n",
       "      <td>35194.89</td>\n",
       "      <td>68</td>\n",
       "      <td>14.11</td>\n",
       "    </tr>\n",
       "    <tr>\n",
       "      <th>...</th>\n",
       "      <td>...</td>\n",
       "      <td>...</td>\n",
       "      <td>...</td>\n",
       "      <td>...</td>\n",
       "    </tr>\n",
       "    <tr>\n",
       "      <th>995</th>\n",
       "      <td>Books</td>\n",
       "      <td>3527.86</td>\n",
       "      <td>113</td>\n",
       "      <td>14.95</td>\n",
       "    </tr>\n",
       "    <tr>\n",
       "      <th>996</th>\n",
       "      <td>Books</td>\n",
       "      <td>2850.04</td>\n",
       "      <td>72</td>\n",
       "      <td>7.30</td>\n",
       "    </tr>\n",
       "    <tr>\n",
       "      <th>997</th>\n",
       "      <td>Books</td>\n",
       "      <td>4148.29</td>\n",
       "      <td>89</td>\n",
       "      <td>6.44</td>\n",
       "    </tr>\n",
       "    <tr>\n",
       "      <th>998</th>\n",
       "      <td>Books</td>\n",
       "      <td>3025.85</td>\n",
       "      <td>108</td>\n",
       "      <td>6.48</td>\n",
       "    </tr>\n",
       "    <tr>\n",
       "      <th>999</th>\n",
       "      <td>Books</td>\n",
       "      <td>3256.82</td>\n",
       "      <td>101</td>\n",
       "      <td>7.87</td>\n",
       "    </tr>\n",
       "  </tbody>\n",
       "</table>\n",
       "<p>945 rows × 4 columns</p>\n",
       "</div>"
      ],
      "text/plain": [
       "    Product_Category  Sales_Amount  Units_Sold  Discount (%)\n",
       "0        Electronics      43973.71          92         17.90\n",
       "1        Electronics      46139.48         107          0.43\n",
       "2        Electronics      26200.66          57         17.33\n",
       "3        Electronics      38193.79          65         11.88\n",
       "4        Electronics      35194.89          68         14.11\n",
       "..               ...           ...         ...           ...\n",
       "995            Books       3527.86         113         14.95\n",
       "996            Books       2850.04          72          7.30\n",
       "997            Books       4148.29          89          6.44\n",
       "998            Books       3025.85         108          6.48\n",
       "999            Books       3256.82         101          7.87\n",
       "\n",
       "[945 rows x 4 columns]"
      ]
     },
     "execution_count": 105,
     "metadata": {},
     "output_type": "execute_result"
    }
   ],
   "source": [
    "df_no_outliers"
   ]
  },
  {
   "cell_type": "code",
   "execution_count": 107,
   "id": "b46dadef-e7cf-4c96-940b-27eae4366b8a",
   "metadata": {},
   "outputs": [],
   "source": [
    "# Box plot for outliers"
   ]
  },
  {
   "cell_type": "code",
   "execution_count": 111,
   "id": "60bca45f-87b4-42b6-b9ce-0dbb3d04ed42",
   "metadata": {},
   "outputs": [],
   "source": [
    "import matplotlib.pyplot as plt"
   ]
  },
  {
   "cell_type": "code",
   "execution_count": 113,
   "id": "07284b93-eacf-4a27-83f4-670229396692",
   "metadata": {},
   "outputs": [
    {
     "data": {
      "text/plain": [
       "Text(0, 0.5, 'Sales Amount')"
      ]
     },
     "execution_count": 113,
     "metadata": {},
     "output_type": "execute_result"
    },
    {
     "data": {
      "image/png": "[encoded data removed]",
      "text/plain": [
       "<Figure size 640x480 with 1 Axes>"
      ]
     },
     "metadata": {},
     "output_type": "display_data"
    }
   ],
   "source": [
    "df_no_outliers.boxplot(column='Sales_Amount', by='Product_Category', grid=False)\n",
    "\n",
    "# Titles and labels\n",
    "plt.title('Sales Amount by Product Category (Outliers Removed)')\n",
    "plt.suptitle('')  # Remove default subtitle\n",
    "plt.xlabel('Product Category')\n",
    "plt.ylabel('Sales Amount')\n"
   ]
  },
  {
   "cell_type": "code",
   "execution_count": 115,
   "id": "7bbcf361-0284-4f24-8e9f-3a8acaf843d5",
   "metadata": {},
   "outputs": [],
   "source": [
    "# to see previous data of outliers"
   ]
  },
  {
   "cell_type": "code",
   "execution_count": 117,
   "id": "5f0c3361-8be2-4379-a2ce-57771aa43d7a",
   "metadata": {},
   "outputs": [
    {
     "data": {
      "text/plain": [
       "Text(0, 0.5, 'Sales Amount')"
      ]
     },
     "execution_count": 117,
     "metadata": {},
     "output_type": "execute_result"
    },
    {
     "data": {
      "image/png": "[encoded data removed]",
      "text/plain": [
       "<Figure size 640x480 with 1 Axes>"
      ]
     },
     "metadata": {},
     "output_type": "display_data"
    }
   ],
   "source": [
    "df.boxplot(column='Sales_Amount', by='Product_Category', grid=False)\n",
    "\n",
    "# Titles and labels\n",
    "plt.title('Sales Amount by Product Category (Outliers Removed)')\n",
    "plt.suptitle('')  # Remove default subtitle\n",
    "plt.xlabel('Product Category')\n",
    "plt.ylabel('Sales Amount')"
   ]
  },
  {
   "cell_type": "code",
   "execution_count": 119,
   "id": "2cbdd6f0-c666-4ac1-aa71-43d9ccff9767",
   "metadata": {},
   "outputs": [],
   "source": [
    "# exporting data with no outliers"
   ]
  },
  {
   "cell_type": "code",
   "execution_count": null,
   "id": "36e3351a-f013-49ce-9526-d577002027e1",
   "metadata": {},
   "outputs": [],
   "source": [
    "df_no_outliers.to_excel(\"C:\\\\Users\\win\\\\OneDrive\\\\Desktop\\\\pandas_project_final\\\\Sale\")"
   ]
  }
 ],
 "metadata": {
  "kernelspec": {
   "display_name": "Python 3 (ipykernel)",
   "language": "python",
   "name": "python3"
  },
  "language_info": {
   "codemirror_mode": {
    "name": "ipython",
    "version": 3
   },
   "file_extension": ".py",
   "mimetype": "text/x-python",
   "name": "python",
   "nbconvert_exporter": "python",
   "pygments_lexer": "ipython3",
   "version": "3.12.7"
  }
 },
 "nbformat": 4,
 "nbformat_minor": 5
}
